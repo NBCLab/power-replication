{
 "cells": [
  {
   "cell_type": "markdown",
   "id": "parental-lithuania",
   "metadata": {},
   "source": [
    "# Evaluate completion of MRIQC on datasets"
   ]
  },
  {
   "cell_type": "code",
   "execution_count": 1,
   "id": "stupid-consultancy",
   "metadata": {},
   "outputs": [],
   "source": [
    "import os.path as op\n",
    "from glob import glob\n",
    "\n",
    "import pandas as pd"
   ]
  },
  {
   "cell_type": "code",
   "execution_count": 2,
   "id": "settled-penguin",
   "metadata": {},
   "outputs": [],
   "source": [
    "# Constants\n",
    "project_dir = \"/home/data/nbc/misc-projects/Salo_PowerReplication/\"\n",
    "\n",
    "dsets = {\n",
    "    \"dset-camcan\": [\n",
    "        \"{}_T1w.html\",\n",
    "        \"{}_T2w.html\",\n",
    "        \"{}_task-movie_echo-1_bold.html\",\n",
    "        \"{}_task-movie_echo-2_bold.html\",\n",
    "        \"{}_task-movie_echo-3_bold.html\",\n",
    "        \"{}_task-movie_echo-4_bold.html\",\n",
    "        \"{}_task-movie_echo-5_bold.html\",\n",
    "    ],\n",
    "    \"dset-cambridge\": [\n",
    "        \"{}_T1w.html\",\n",
    "        \"{}_task-rest_echo-1_bold.html\",\n",
    "        \"{}_task-rest_echo-2_bold.html\",\n",
    "        \"{}_task-rest_echo-3_bold.html\",\n",
    "        \"{}_task-rest_echo-4_bold.html\",\n",
    "    ],\n",
    "    \"dset-dupre\": [\n",
    "        \"{}_T1w.html\",\n",
    "        \"{}_task-rest_run-01_echo-1_bold.html\",\n",
    "        \"{}_task-rest_run-01_echo-2_bold.html\",\n",
    "        \"{}_task-rest_run-01_echo-3_bold.html\",\n",
    "    ],\n",
    "    \"dset-dalenberg\": [\n",
    "        \"{}_T1w.html\",\n",
    "        \"{}_task-images_echo-1_bold.html\",\n",
    "        \"{}_task-images_echo-2_bold.html\",\n",
    "        \"{}_task-images_echo-3_bold.html\",\n",
    "    ],\n",
    "    \"dset-cohen\": [\n",
    "        \"{}_T1w.html\",\n",
    "        \"{}_task-bilateralfingertapping_echo-1_bold.html\",\n",
    "        \"{}_task-bilateralfingertapping_echo-2_bold.html\",\n",
    "        \"{}_task-bilateralfingertapping_echo-3_bold.html\",\n",
    "        \"{}_task-bilateralfingertapping_echo-4_bold.html\",\n",
    "    ],\n",
    "}"
   ]
  },
  {
   "cell_type": "code",
   "execution_count": 3,
   "id": "likely-mailing",
   "metadata": {},
   "outputs": [
    {
     "name": "stdout",
     "output_type": "stream",
     "text": [
      "dset-camcan\n",
      "\tsub-CC410040\n",
      "dset-cambridge\n",
      "\t\n",
      "dset-dupre\n",
      "\t\n",
      "dset-dalenberg\n",
      "\tDataset not yet processed.\n",
      "dset-cohen\n",
      "\tDataset not yet processed.\n"
     ]
    }
   ],
   "source": [
    "for dset, target_files in dsets.items():\n",
    "    print(dset)\n",
    "    dset_dir = op.join(project_dir, dset)\n",
    "    mriqc_dir = op.join(dset_dir, \"derivatives/mriqc/\")\n",
    "    if not op.isdir(mriqc_dir):\n",
    "        print(\"\\tDataset not yet processed.\")\n",
    "        continue\n",
    "    participants_file = op.join(dset_dir, \"participants.tsv\")\n",
    "    participants_df = pd.read_table(participants_file)\n",
    "    subject_list = participants_df[\"participant_id\"].tolist()\n",
    "    failed_subjects = []\n",
    "    for sub in subject_list:\n",
    "        tfs = [op.join(mriqc_dir, temp.format(sub)) for temp in target_files]\n",
    "        if not all(op.isfile(tf) for tf in tfs):\n",
    "            failed_subjects.append(sub)\n",
    "    print(\"\\t\" + \"\\n\\t\".join(failed_subjects))"
   ]
  },
  {
   "cell_type": "code",
   "execution_count": 4,
   "id": "smooth-hospital",
   "metadata": {},
   "outputs": [
    {
     "name": "stdout",
     "output_type": "stream",
     "text": [
      "dset-camcan\n",
      "\tsub-CC410040_T1w.html\n",
      "\tsub-CC410040_T2w.html\n",
      "\tsub-CC410040_task-movie_echo-1_bold.html\n",
      "\tsub-CC410040_task-movie_echo-2_bold.html\n",
      "\tsub-CC410040_task-movie_echo-3_bold.html\n",
      "\tsub-CC410040_task-movie_echo-4_bold.html\n",
      "\tsub-CC410040_task-movie_echo-5_bold.html\n",
      "dset-cambridge\n",
      "dset-dupre\n",
      "dset-dalenberg\n",
      "\tDataset not yet processed.\n",
      "dset-cohen\n",
      "\tDataset not yet processed.\n"
     ]
    }
   ],
   "source": [
    "for dset, target_files in dsets.items():\n",
    "    print(dset)\n",
    "    dset_dir = op.join(project_dir, dset)\n",
    "    mriqc_dir = op.join(dset_dir, \"derivatives/mriqc/\")\n",
    "    if not op.isdir(mriqc_dir):\n",
    "        print(\"\\tDataset not yet processed.\")\n",
    "        continue\n",
    "    participants_file = op.join(dset_dir, \"participants.tsv\")\n",
    "    participants_df = pd.read_table(participants_file)\n",
    "    subject_list = participants_df[\"participant_id\"].tolist()\n",
    "    failed_subjects = []\n",
    "    for sub in subject_list:\n",
    "        tfs = [op.join(mriqc_dir, temp.format(sub)) for temp in target_files]\n",
    "        for tf in tfs:\n",
    "            if not op.isfile(tf):\n",
    "                print(\"\\t{}\".format(op.basename(tf)))"
   ]
  },
  {
   "cell_type": "code",
   "execution_count": null,
   "id": "ruled-steering",
   "metadata": {},
   "outputs": [],
   "source": []
  }
 ],
 "metadata": {
  "kernelspec": {
   "display_name": "Python 3",
   "language": "python",
   "name": "python3"
  },
  "language_info": {
   "codemirror_mode": {
    "name": "ipython",
    "version": 3
   },
   "file_extension": ".py",
   "mimetype": "text/x-python",
   "name": "python",
   "nbconvert_exporter": "python",
   "pygments_lexer": "ipython3",
   "version": "3.7.10"
  }
 },
 "nbformat": 4,
 "nbformat_minor": 5
}
