{
 "cells": [
  {
   "cell_type": "code",
   "execution_count": 1,
   "id": "minimal-solid",
   "metadata": {},
   "outputs": [],
   "source": [
    "import os.path as op\n",
    "from glob import glob\n",
    "\n",
    "import numpy as np\n",
    "import pandas as pd"
   ]
  },
  {
   "cell_type": "code",
   "execution_count": 2,
   "id": "demanding-shareware",
   "metadata": {},
   "outputs": [],
   "source": [
    "dsets = [\"dset-cambridge\", \"dset-camcan\", \"dset-cohen\", \"dset-dalenberg\", \"dset-dupre\"]\n",
    "metrics = [(\"gsr_x\", \"upper\"), (\"gsr_y\", \"upper\"), (\"fber\", \"lower\")]\n",
    "\n",
    "base_dir = \"/home/data/nbc/misc-projects/Salo_PowerReplication/\"\n",
    "sub_dir = \"derivatives/mriqc/\""
   ]
  },
  {
   "cell_type": "code",
   "execution_count": 3,
   "id": "apart-gates",
   "metadata": {},
   "outputs": [
    {
     "name": "stdout",
     "output_type": "stream",
     "text": [
      "dset-cambridge\n",
      "\ttask-rest_echo-1_bold.tsv: \n",
      "\ttask-rest_echo-2_bold.tsv: sub-20494\n",
      "\ttask-rest_echo-3_bold.tsv: sub-20494, sub-20859\n",
      "\ttask-rest_echo-4_bold.tsv: sub-20494, sub-20859, sub-20863\n",
      "\n",
      "dset-cambridge: sub-20494, sub-20859, sub-20863\n",
      "\n",
      "dset-camcan\n",
      "\ttask-movie_echo-1_bold.tsv: sub-CC221935, sub-CC610658, sub-CC221336, sub-CC510043\n",
      "\ttask-movie_echo-2_bold.tsv: sub-CC221595, sub-CC223286\n",
      "\ttask-movie_echo-3_bold.tsv: sub-CC221040, sub-CC221595, sub-CC223286, sub-CC321107, sub-CC610061\n",
      "\ttask-movie_echo-4_bold.tsv: sub-CC221040, sub-CC221595, sub-CC223286, sub-CC321107, sub-CC320336, sub-CC610061\n",
      "\ttask-movie_echo-5_bold.tsv: sub-CC321107, sub-CC320336, sub-CC610061\n",
      "\n",
      "dset-camcan: sub-CC221040, sub-CC221336, sub-CC221595, sub-CC221935, sub-CC223286, sub-CC320336, sub-CC321107, sub-CC510043, sub-CC610061, sub-CC610658\n",
      "\n",
      "dset-cohen\n",
      "\ttask-bilateralfingertapping_echo-1_bold.tsv: \n",
      "\ttask-bilateralfingertapping_echo-2_bold.tsv: \n",
      "\ttask-bilateralfingertapping_echo-3_bold.tsv: \n",
      "\ttask-bilateralfingertapping_echo-4_bold.tsv: \n",
      "\n",
      "dset-cohen: \n",
      "\n",
      "dset-dalenberg\n",
      "\ttask-images_echo-1_bold.tsv: \n",
      "\ttask-images_echo-2_bold.tsv: \n",
      "\ttask-images_echo-3_bold.tsv: \n",
      "\n",
      "dset-dalenberg: \n",
      "\n",
      "dset-dupre\n",
      "\ttask-rest_run-01_echo-1_bold.tsv: \n",
      "\ttask-rest_run-01_echo-2_bold.tsv: sub-18\n",
      "\ttask-rest_run-01_echo-3_bold.tsv: \n",
      "\n",
      "dset-dupre: sub-18\n",
      "\n"
     ]
    }
   ],
   "source": [
    "for dset in dsets:\n",
    "    print(dset)\n",
    "    dset_bad_subs = []\n",
    "    target_files = sorted(glob(op.join(base_dir, dset, sub_dir, \"*_bold.tsv\")))\n",
    "    for target_file in target_files:\n",
    "        name = op.basename(target_file)\n",
    "        df = pd.read_table(target_file)\n",
    "        all_bad_subs = []\n",
    "        for metric, side in metrics:\n",
    "            values = df[metric].values\n",
    "            mean = values.mean()\n",
    "            std = values.std()\n",
    "            threshold = std * 3\n",
    "            if side == \"upper\":\n",
    "                max_val = mean + threshold\n",
    "                bad_idx = df.loc[df[metric] > max_val].index\n",
    "            elif side == \"lower\":\n",
    "                min_val = mean - threshold\n",
    "                bad_idx = df.loc[df[metric] < min_val].index\n",
    "            bad_subs = df.loc[bad_idx, \"participant_id\"].tolist()\n",
    "            all_bad_subs += bad_subs\n",
    "        dset_bad_subs += all_bad_subs\n",
    "        print(f\"\\t{name}: {', '.join(all_bad_subs)}\")\n",
    "    dset_bad_subs = sorted(list(set(dset_bad_subs)))\n",
    "    print(f\"\\n{dset}: {', '.join(dset_bad_subs)}\\n\")"
   ]
  },
  {
   "cell_type": "code",
   "execution_count": null,
   "id": "informative-oasis",
   "metadata": {},
   "outputs": [],
   "source": []
  }
 ],
 "metadata": {
  "kernelspec": {
   "display_name": "Python 3",
   "language": "python",
   "name": "python3"
  },
  "language_info": {
   "codemirror_mode": {
    "name": "ipython",
    "version": 3
   },
   "file_extension": ".py",
   "mimetype": "text/x-python",
   "name": "python",
   "nbconvert_exporter": "python",
   "pygments_lexer": "ipython3",
   "version": "3.7.10"
  }
 },
 "nbformat": 4,
 "nbformat_minor": 5
}
