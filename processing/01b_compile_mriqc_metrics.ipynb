{
 "cells": [
  {
   "cell_type": "markdown",
   "id": "signal-quarterly",
   "metadata": {},
   "source": [
    "# Compile MRIQC metrics into TSV files\n",
    "This should do the same thing as an MRIQC call at the group level, but without having to use Singularity."
   ]
  },
  {
   "cell_type": "code",
   "execution_count": 1,
   "id": "outstanding-vanilla",
   "metadata": {},
   "outputs": [],
   "source": [
    "import json\n",
    "import os.path as op\n",
    "from glob import glob\n",
    "\n",
    "import pandas as pd"
   ]
  },
  {
   "cell_type": "code",
   "execution_count": 2,
   "id": "aboriginal-dispute",
   "metadata": {},
   "outputs": [],
   "source": [
    "def load_json(f):\n",
    "    with open(f, \"r\") as fo:\n",
    "        data = json.load(fo)\n",
    "    return data"
   ]
  },
  {
   "cell_type": "code",
   "execution_count": 3,
   "id": "loose-regard",
   "metadata": {},
   "outputs": [
    {
     "name": "stdout",
     "output_type": "stream",
     "text": [
      "Processing dset-dupre\n",
      "Processing dset-cambridge\n",
      "Processing dset-camcan\n",
      "Processing dset-dalenberg\n",
      "Processing dset-cohen\n"
     ]
    }
   ],
   "source": [
    "base_dir = \"/home/data/nbc/misc-projects/Salo_PowerReplication/\"\n",
    "sub_dir = \"derivatives/mriqc/\"\n",
    "dsets = [\"dset-dupre\", \"dset-cambridge\", \"dset-camcan\", \"dset-dalenberg\", \"dset-cohen\"]\n",
    "modalities = [\"anat\", \"func\"]\n",
    "\n",
    "for dset in dsets:\n",
    "    print(f\"Processing {dset}\")\n",
    "    data_dict = {}\n",
    "\n",
    "    dset_dir = op.join(base_dir, dset)\n",
    "    deriv_dir = op.join(dset_dir, sub_dir)\n",
    "    sub_folders = sorted(glob(op.join(deriv_dir, \"sub-*\")))\n",
    "    sub_folders = [sf for sf in sub_folders if op.isdir(sf)]\n",
    "    for sub_folder in sub_folders:\n",
    "        sub_id = op.basename(sub_folder)\n",
    "        for mod in modalities:\n",
    "            mod_folder = op.join(sub_folder, mod)\n",
    "            jsons = sorted(glob(op.join(mod_folder, \"*.json\")))\n",
    "            for json_file in jsons:\n",
    "                json_mod = \"_\".join(op.basename(json_file).split(\"_\")[1:]).split(\".\")[0]\n",
    "                if json_mod not in data_dict.keys():\n",
    "                    data_dict[json_mod] = pd.DataFrame()\n",
    "                \n",
    "                json_data = load_json(json_file)\n",
    "                json_data = {k: v for k, v in json_data.items() if not isinstance(v, dict)}\n",
    "                temp_df = pd.DataFrame(json_data, index=[sub_id])\n",
    "                data_dict[json_mod] = data_dict[json_mod].append(temp_df)\n",
    "    \n",
    "    for out_name, df in data_dict.items():\n",
    "        out_file = op.join(deriv_dir, out_name + \".tsv\")\n",
    "        df.to_csv(out_file, sep=\"\\t\", index_label=\"participant_id\")"
   ]
  },
  {
   "cell_type": "code",
   "execution_count": null,
   "id": "apart-closing",
   "metadata": {},
   "outputs": [],
   "source": []
  }
 ],
 "metadata": {
  "kernelspec": {
   "display_name": "Python 3",
   "language": "python",
   "name": "python3"
  },
  "language_info": {
   "codemirror_mode": {
    "name": "ipython",
    "version": 3
   },
   "file_extension": ".py",
   "mimetype": "text/x-python",
   "name": "python",
   "nbconvert_exporter": "python",
   "pygments_lexer": "ipython3",
   "version": "3.7.10"
  }
 },
 "nbformat": 4,
 "nbformat_minor": 5
}
