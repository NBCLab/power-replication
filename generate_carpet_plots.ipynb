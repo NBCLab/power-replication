{
 "cells": [
  {
   "cell_type": "code",
   "execution_count": 1,
   "metadata": {},
   "outputs": [],
   "source": [
    "%matplotlib inline\n",
    "import matplotlib.pyplot as plt\n",
    "from matplotlib import gridspec\n",
    "from mpl_toolkits import axes_grid1\n",
    "import nibabel as nib\n",
    "import numpy as np\n",
    "import pandas as pd\n",
    "from scipy import stats\n",
    "from nilearn import datasets\n",
    "from nilearn.masking import apply_mask\n",
    "from nilearn.image import resample_to_img\n",
    "from niworkflows_plots import fMRIPlot"
   ]
  },
  {
   "cell_type": "code",
   "execution_count": 2,
   "metadata": {},
   "outputs": [],
   "source": [
    "def get_fd(motion):\n",
    "    # assuming rotations in degrees\n",
    "    motion = np.vstack((np.array([[0, 0, 0, 0, 0, 0]]),\n",
    "                        np.diff(motion, axis=0)))\n",
    "    fd = np.sum(np.abs(motion), axis=1)\n",
    "    return fd"
   ]
  },
  {
   "cell_type": "code",
   "execution_count": 3,
   "metadata": {},
   "outputs": [
    {
     "data": {
      "text/plain": [
       "\"mask_img = datasets.load_mni152_brain_mask()\\nsubjects = datasets.fetch_adhd(n_subjects=1)\\nsubj_idx = 0\\ndf = pd.read_csv(subjects.confounds[subj_idx], sep='\\t')\\nred_df = df[['motion-pitch', 'motion-roll', 'motion-yaw',\\n             'motion-x', 'motion-y', 'motion-z']]\\nred_df = red_df.rename(columns={'motion-x': 'X',\\n                                'motion-y': 'Y',\\n                                'motion-z': 'Z',\\n                                'motion-pitch': 'P',\\n                                'motion-roll': 'R',\\n                                'motion-yaw': 'Ya'})\\nred_df[['R', 'P', 'Ya']] = red_df[['R', 'P', 'Ya']] * 50 * (np.pi/180.)\\nmotion = red_df.values\\nred_df['FD'] = get_fd(motion)\\nfunc_img = nib.load(subjects.func[subj_idx])\\nfunc_img2 = resample_to_img(func_img, mask_img)\\nfunc_img2.to_filename('func.nii.gz')\\nmask_img.to_filename('mask.nii.gz')\\nred_df.to_csv('conf.tsv', sep='\\t')\""
      ]
     },
     "execution_count": 3,
     "metadata": {},
     "output_type": "execute_result"
    }
   ],
   "source": [
    "'''mask_img = datasets.load_mni152_brain_mask()\n",
    "subjects = datasets.fetch_adhd(n_subjects=1)\n",
    "subj_idx = 0\n",
    "df = pd.read_csv(subjects.confounds[subj_idx], sep='\\t')\n",
    "red_df = df[['motion-pitch', 'motion-roll', 'motion-yaw',\n",
    "             'motion-x', 'motion-y', 'motion-z']]\n",
    "red_df = red_df.rename(columns={'motion-x': 'X',\n",
    "                                'motion-y': 'Y',\n",
    "                                'motion-z': 'Z',\n",
    "                                'motion-pitch': 'P',\n",
    "                                'motion-roll': 'R',\n",
    "                                'motion-yaw': 'Ya'})\n",
    "red_df[['R', 'P', 'Ya']] = red_df[['R', 'P', 'Ya']] * 50 * (np.pi/180.)\n",
    "motion = red_df.values\n",
    "red_df['FD'] = get_fd(motion)\n",
    "func_img = nib.load(subjects.func[subj_idx])\n",
    "func_img2 = resample_to_img(func_img, mask_img)\n",
    "func_img2.to_filename('func.nii.gz')\n",
    "mask_img.to_filename('mask.nii.gz')\n",
    "red_df.to_csv('conf.tsv', sep='\\t')'''"
   ]
  },
  {
   "cell_type": "code",
   "execution_count": 4,
   "metadata": {},
   "outputs": [
    {
     "data": {
      "text/plain": [
       "\"n_vols = func_img.shape[-1]\\ntr = func_img.header.get_zooms()[-1]\\n\\nseg_data = np.copy(mask_img.get_data())\\nfor i in range(2, 9):\\n    idx = np.where(seg_data==1)\\n    idx = [j[:20000] for j in idx]\\n    seg_data[idx[0], idx[1], idx[2]] = i\\n\\nseg_img = nib.Nifti1Image(seg_data, mask_img.affine)\\nseg_img.to_filename('seg.nii.gz')\""
      ]
     },
     "execution_count": 4,
     "metadata": {},
     "output_type": "execute_result"
    }
   ],
   "source": [
    "'''n_vols = func_img.shape[-1]\n",
    "tr = func_img.header.get_zooms()[-1]\n",
    "\n",
    "seg_data = np.copy(mask_img.get_data())\n",
    "for i in range(2, 9):\n",
    "    idx = np.where(seg_data==1)\n",
    "    idx = [j[:20000] for j in idx]\n",
    "    seg_data[idx[0], idx[1], idx[2]] = i\n",
    "\n",
    "seg_img = nib.Nifti1Image(seg_data, mask_img.affine)\n",
    "seg_img.to_filename('seg.nii.gz')'''"
   ]
  },
  {
   "cell_type": "code",
   "execution_count": null,
   "metadata": {},
   "outputs": [
    {
     "name": "stderr",
     "output_type": "stream",
     "text": [
      "/Users/tsalo/Documents/nbc/power-replication/niworkflows_plots.py:60: ParserWarning: Falling back to the 'python' engine because the 'c' engine does not support regex separators (separators > 1 char and different from '\\s+' are interpreted as regex); you can avoid this warning by specifying engine='python'.\n",
      "  usecols=usecols, index_col=False)\n"
     ]
    }
   ],
   "source": [
    "conf_cols = ['X', 'Y', 'Z', 'P', 'R', 'Ya', 'FD']\n",
    "plot = fMRIPlot('func.nii.gz', 'mask.nii.gz', tr=2.,\n",
    "                conf_file='conf.tsv', seg_file='seg.nii.gz',\n",
    "                usecols=conf_cols)\n",
    "\n",
    "fig = plt.figure(figsize=(16, 8))\n",
    "fig = plot.plot(figure=fig)\n",
    "fig.savefig('temp.png', dpi=400)"
   ]
  },
  {
   "cell_type": "code",
   "execution_count": null,
   "metadata": {},
   "outputs": [],
   "source": []
  }
 ],
 "metadata": {
  "kernelspec": {
   "display_name": "Python [conda env:python3]",
   "language": "python",
   "name": "conda-env-python3-py"
  },
  "language_info": {
   "codemirror_mode": {
    "name": "ipython",
    "version": 3
   },
   "file_extension": ".py",
   "mimetype": "text/x-python",
   "name": "python",
   "nbconvert_exporter": "python",
   "pygments_lexer": "ipython3",
   "version": "3.6.4"
  }
 },
 "nbformat": 4,
 "nbformat_minor": 2
}
