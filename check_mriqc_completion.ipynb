{
 "cells": [
  {
   "cell_type": "markdown",
   "id": "parental-lithuania",
   "metadata": {},
   "source": [
    "# Evaluate completion of MRIQC on datasets"
   ]
  },
  {
   "cell_type": "code",
   "execution_count": 1,
   "id": "stupid-consultancy",
   "metadata": {},
   "outputs": [],
   "source": [
    "import os.path as op\n",
    "from glob import glob\n",
    "\n",
    "import pandas as pd"
   ]
  },
  {
   "cell_type": "code",
   "execution_count": 2,
   "id": "likely-mailing",
   "metadata": {},
   "outputs": [],
   "source": [
    "dset_dir = \"/home/data/nbc/misc-projects/Salo_PowerReplication/dset-camcan/\"\n",
    "mriqc_dir = op.join(dset_dir, \"derivatives/mriqc/\")\n",
    "participants_file = op.join(dset_dir, \"participants.tsv\")\n",
    "participants_df = pd.read_table(participants_file)\n",
    "subject_list = participants_df[\"participant_id\"].tolist()\n",
    "\n",
    "target_files = [\n",
    "    \"{}_T1w.html\",\n",
    "    \"{}_T2w.html\",\n",
    "    \"{}_task-movie_echo-1_bold.html\",\n",
    "    \"{}_task-movie_echo-2_bold.html\",\n",
    "    \"{}_task-movie_echo-3_bold.html\",\n",
    "    \"{}_task-movie_echo-4_bold.html\",\n",
    "    \"{}_task-movie_echo-5_bold.html\",\n",
    "]"
   ]
  },
  {
   "cell_type": "code",
   "execution_count": 3,
   "id": "faced-faculty",
   "metadata": {},
   "outputs": [],
   "source": [
    "failed_subjects = []\n",
    "for sub in subject_list:\n",
    "    tfs = [op.join(mriqc_dir, temp.format(sub)) for temp in target_files]\n",
    "    if not all(op.isfile(tf) for tf in tfs):\n",
    "        failed_subjects.append(sub)"
   ]
  },
  {
   "cell_type": "code",
   "execution_count": 4,
   "id": "modified-chess",
   "metadata": {},
   "outputs": [
    {
     "data": {
      "text/plain": [
       "['sub-CC110126',\n",
       " 'sub-CC110174',\n",
       " 'sub-CC110187',\n",
       " 'sub-CC223115',\n",
       " 'sub-CC310400',\n",
       " 'sub-CC320379',\n",
       " 'sub-CC320621',\n",
       " 'sub-CC320686',\n",
       " 'sub-CC321053',\n",
       " 'sub-CC410032',\n",
       " 'sub-CC410040',\n",
       " 'sub-CC420720',\n",
       " 'sub-CC510354']"
      ]
     },
     "execution_count": 4,
     "metadata": {},
     "output_type": "execute_result"
    }
   ],
   "source": [
    "failed_subjects"
   ]
  },
  {
   "cell_type": "code",
   "execution_count": 5,
   "id": "closing-rabbit",
   "metadata": {},
   "outputs": [
    {
     "name": "stdout",
     "output_type": "stream",
     "text": [
      "sub-CC110126 sub-CC110174 sub-CC110187 sub-CC223115 sub-CC310400 sub-CC320379 sub-CC320621 sub-CC320686 sub-CC321053 sub-CC410032 sub-CC410040 sub-CC420720 sub-CC510354\n"
     ]
    }
   ],
   "source": [
    "# For the job wrangler\n",
    "print(\" \".join(failed_subjects))"
   ]
  },
  {
   "cell_type": "code",
   "execution_count": null,
   "id": "smooth-hospital",
   "metadata": {},
   "outputs": [],
   "source": []
  }
 ],
 "metadata": {
  "kernelspec": {
   "display_name": "Python 3",
   "language": "python",
   "name": "python3"
  },
  "language_info": {
   "codemirror_mode": {
    "name": "ipython",
    "version": 3
   },
   "file_extension": ".py",
   "mimetype": "text/x-python",
   "name": "python",
   "nbconvert_exporter": "python",
   "pygments_lexer": "ipython3",
   "version": "3.7.10"
  }
 },
 "nbformat": 4,
 "nbformat_minor": 5
}
