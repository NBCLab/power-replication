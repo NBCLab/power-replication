{
 "cells": [
  {
   "cell_type": "markdown",
   "metadata": {},
   "source": [
    "# Power analyses for Power et al. (2018) replication\n",
    "Sample size is set at 31, so we needed to estimate power for each of the analyses given the effect sizes from the original paper and the sample size available to us."
   ]
  },
  {
   "cell_type": "code",
   "execution_count": 1,
   "metadata": {},
   "outputs": [],
   "source": [
    "library(pwr)\n",
    "fisher.r2z <- function(r) { 0.5 * (log(1+r) - log(1-r)) }"
   ]
  },
  {
   "cell_type": "markdown",
   "metadata": {},
   "source": [
    "# Family 1: Cortical signal correlated with brain signal"
   ]
  },
  {
   "cell_type": "code",
   "execution_count": 2,
   "metadata": {},
   "outputs": [],
   "source": [
    "f1_alpha = 0.05 / 2"
   ]
  },
  {
   "cell_type": "markdown",
   "metadata": {},
   "source": [
    "## 1. Mean cortical signal correlated with signal of all gray matter\n",
    "- Distribution of Pearson correlation coefficients\n",
    "- N = 89\n",
    "- R = 0.99, SD = 0.01\n",
    "- Page 2, right column, first paragraph"
   ]
  },
  {
   "cell_type": "code",
   "execution_count": 3,
   "metadata": {},
   "outputs": [
    {
     "data": {
      "text/plain": [
       "\n",
       "     One-sample t test power calculation \n",
       "\n",
       "              n = 31\n",
       "              d = 7.581522\n",
       "      sig.level = 0.025\n",
       "          power = 1\n",
       "    alternative = greater\n"
      ]
     },
     "metadata": {},
     "output_type": "display_data"
    }
   ],
   "source": [
    "r_m = 0.99\n",
    "r_sd = 0.01\n",
    "z_m = fisher.r2z(r_m)\n",
    "z_sd = z_m - fisher.r2z(r_m - r_sd)\n",
    "\n",
    "pwr.t.test(d=(z_m - 0)/z_sd, n=31, sig.level=f1_alpha,\n",
    "           type=\"one.sample\", alternative=\"greater\")"
   ]
  },
  {
   "cell_type": "markdown",
   "metadata": {},
   "source": [
    "## 2. Mean cortical signal correlated with signal of whole brain\n",
    "- Distribution of Pearson correlation coefficients\n",
    "- N = 89\n",
    "- R = 0.99, SD = 0.01\n",
    "- Page 2, right column, first paragraph\n"
   ]
  },
  {
   "cell_type": "code",
   "execution_count": 4,
   "metadata": {},
   "outputs": [
    {
     "data": {
      "text/plain": [
       "\n",
       "     One-sample t test power calculation \n",
       "\n",
       "              n = 31\n",
       "              d = 7.581522\n",
       "      sig.level = 0.025\n",
       "          power = 1\n",
       "    alternative = greater\n"
      ]
     },
     "metadata": {},
     "output_type": "display_data"
    }
   ],
   "source": [
    "r_m = 0.99\n",
    "r_sd = 0.01\n",
    "z_m = fisher.r2z(r_m)\n",
    "z_sd = z_m - fisher.r2z(r_m - r_sd)\n",
    "\n",
    "pwr.t.test(d=(z_m - 0)/z_sd, n=31, sig.level=f1_alpha,\n",
    "           type=\"one.sample\", alternative=\"greater\")"
   ]
  },
  {
   "cell_type": "markdown",
   "metadata": {},
   "source": [
    "# Family 2: Correlations of global signals from denoised fMRI data"
   ]
  },
  {
   "cell_type": "code",
   "execution_count": 5,
   "metadata": {},
   "outputs": [],
   "source": [
    "f2_alpha = 0.05 / 2"
   ]
  },
  {
   "cell_type": "markdown",
   "metadata": {},
   "source": [
    "## 3. Global signal from MEICA-denoised data correlated with global signal from optimally combined data\n",
    "- Distribution of Pearson correlation coefficients\n",
    "- N = 89\n",
    "- R = 0.95, SD = 0.08\n",
    "- Page 2, right column, first paragraph"
   ]
  },
  {
   "cell_type": "code",
   "execution_count": 6,
   "metadata": {},
   "outputs": [
    {
     "data": {
      "text/plain": [
       "\n",
       "     One-sample t test power calculation \n",
       "\n",
       "              n = 31\n",
       "              d = 3.673103\n",
       "      sig.level = 0.025\n",
       "          power = 1\n",
       "    alternative = greater\n"
      ]
     },
     "metadata": {},
     "output_type": "display_data"
    }
   ],
   "source": [
    "r_m = 0.95\n",
    "r_sd = 0.08\n",
    "z_m = fisher.r2z(r_m)\n",
    "z_sd = z_m - fisher.r2z(r_m - r_sd)\n",
    "\n",
    "pwr.t.test(d=(z_m - 0)/z_sd, n=31, sig.level=f2_alpha,\n",
    "           type=\"one.sample\", alternative=\"greater\")"
   ]
  },
  {
   "cell_type": "markdown",
   "metadata": {},
   "source": [
    "## 4. Global signal from MEICA-denoised data correlated with global signal from FIT R2* data\n",
    "- Distribution of Pearson correlation coefficients\n",
    "- N = 89\n",
    "- R = 0.96, SD = 0.06\n",
    "- Page 2, right column, second paragraph"
   ]
  },
  {
   "cell_type": "code",
   "execution_count": 7,
   "metadata": {},
   "outputs": [
    {
     "data": {
      "text/plain": [
       "\n",
       "     One-sample t test power calculation \n",
       "\n",
       "              n = 31\n",
       "              d = 4.107977\n",
       "      sig.level = 0.025\n",
       "          power = 1\n",
       "    alternative = greater\n"
      ]
     },
     "metadata": {},
     "output_type": "display_data"
    }
   ],
   "source": [
    "r_m = 0.96\n",
    "r_sd = 0.06\n",
    "z_m = fisher.r2z(r_m)\n",
    "z_sd = z_m - fisher.r2z(r_m - r_sd)\n",
    "\n",
    "pwr.t.test(d=(z_m - 0)/z_sd, n=31, sig.level=f2_alpha,\n",
    "           type=\"one.sample\", alternative=\"greater\")"
   ]
  },
  {
   "cell_type": "markdown",
   "metadata": {},
   "source": [
    "# Family 3: Correlations of respiration with global fMRI signal after multi-echo denoising"
   ]
  },
  {
   "cell_type": "code",
   "execution_count": 8,
   "metadata": {},
   "outputs": [],
   "source": [
    "f3_alpha = 0.05 / 7"
   ]
  },
  {
   "cell_type": "markdown",
   "metadata": {},
   "source": [
    "## 5. RPV correlated with SD of global fMRI signal from TE2 data\n",
    "- Correlation across subjects\n",
    "- N = 12\n",
    "- R = 0.69, p < 0.001\n",
    "- Page 3, left column, second paragraph"
   ]
  },
  {
   "cell_type": "code",
   "execution_count": 9,
   "metadata": {},
   "outputs": [
    {
     "data": {
      "text/plain": [
       "\n",
       "     approximate correlation power calculation (arctangh transformation) \n",
       "\n",
       "              n = 31\n",
       "              r = 0.69\n",
       "      sig.level = 0.007142857\n",
       "          power = 0.9811063\n",
       "    alternative = greater\n"
      ]
     },
     "metadata": {},
     "output_type": "display_data"
    }
   ],
   "source": [
    "pwr.r.test(n=31, r=0.69, sig.level=f3_alpha, alternative=\"greater\")"
   ]
  },
  {
   "cell_type": "markdown",
   "metadata": {},
   "source": [
    "## 6. RPV correlated with SD of global fMRI signal from FIT R2* data\n",
    "- Correlation across subjects\n",
    "- N = 12\n",
    "- R = 0.64, p < 0.003\n",
    "- Page 3, left column, second paragraph"
   ]
  },
  {
   "cell_type": "code",
   "execution_count": 10,
   "metadata": {},
   "outputs": [
    {
     "data": {
      "text/plain": [
       "\n",
       "     approximate correlation power calculation (arctangh transformation) \n",
       "\n",
       "              n = 31\n",
       "              r = 0.64\n",
       "      sig.level = 0.007142857\n",
       "          power = 0.9449409\n",
       "    alternative = greater\n"
      ]
     },
     "metadata": {},
     "output_type": "display_data"
    }
   ],
   "source": [
    "pwr.r.test(n=31, r=0.64, sig.level=f3_alpha, alternative=\"greater\")"
   ]
  },
  {
   "cell_type": "markdown",
   "metadata": {},
   "source": [
    "## 7. RPV correlated with SD of global fMRI signal from MEICA-denoised data\n",
    "- Correlation across subjects\n",
    "- N = 12\n",
    "- R = 0.59, p < 0.008\n",
    "- Page 3, left column, second paragraph"
   ]
  },
  {
   "cell_type": "code",
   "execution_count": 11,
   "metadata": {},
   "outputs": [
    {
     "data": {
      "text/plain": [
       "\n",
       "     approximate correlation power calculation (arctangh transformation) \n",
       "\n",
       "              n = 31\n",
       "              r = 0.59\n",
       "      sig.level = 0.007142857\n",
       "          power = 0.8784444\n",
       "    alternative = greater\n"
      ]
     },
     "metadata": {},
     "output_type": "display_data"
    }
   ],
   "source": [
    "pwr.r.test(n=31, r=0.59, sig.level=f3_alpha, alternative=\"greater\")"
   ]
  },
  {
   "cell_type": "markdown",
   "metadata": {},
   "source": [
    "## 8. RPV correlated with SD of global fMRI signal from MEICA-denoised + GODEC data\n",
    "- Correlation across subjects\n",
    "- N = 12\n",
    "- R = -0.04, p = 0.8856\n",
    "- Figure 2B"
   ]
  },
  {
   "cell_type": "code",
   "execution_count": 12,
   "metadata": {},
   "outputs": [
    {
     "data": {
      "text/plain": [
       "\n",
       "     approximate correlation power calculation (arctangh transformation) \n",
       "\n",
       "              n = 31\n",
       "              r = 0.04\n",
       "      sig.level = 0.007142857\n",
       "          power = 0.007738998\n",
       "    alternative = two.sided\n"
      ]
     },
     "metadata": {},
     "output_type": "display_data"
    }
   ],
   "source": [
    "pwr.r.test(n=31, r=-0.04, sig.level=f3_alpha, alternative=\"two.sided\")"
   ]
  },
  {
   "cell_type": "markdown",
   "metadata": {},
   "source": [
    "## 9. RPV correlated with SD of global fMRI signal from MEICA-denoised + nuisance regression (motion, motion derivatives, mean e4 white, mean e2 ventricle) data\n",
    "- Correlation across subjects\n",
    "- N = 12\n",
    "- R = 0.64, p = 0.0003\n",
    "- Figure S8"
   ]
  },
  {
   "cell_type": "code",
   "execution_count": 13,
   "metadata": {},
   "outputs": [
    {
     "data": {
      "text/plain": [
       "\n",
       "     approximate correlation power calculation (arctangh transformation) \n",
       "\n",
       "              n = 31\n",
       "              r = 0.64\n",
       "      sig.level = 0.007142857\n",
       "          power = 0.9449409\n",
       "    alternative = greater\n"
      ]
     },
     "metadata": {},
     "output_type": "display_data"
    }
   ],
   "source": [
    "pwr.r.test(n=31, r=0.64, sig.level=f3_alpha, alternative=\"greater\")"
   ]
  },
  {
   "cell_type": "markdown",
   "metadata": {},
   "source": [
    "## 10. RPV correlated with SD of global fMRI signal from MEICA-denoised + RVT + RVT*RRF data\n",
    "- Correlation across subjects\n",
    "- N = 12\n",
    "- R = 0.51, p = 0.025\n",
    "- Figure S8"
   ]
  },
  {
   "cell_type": "code",
   "execution_count": 14,
   "metadata": {},
   "outputs": [
    {
     "data": {
      "text/plain": [
       "\n",
       "     approximate correlation power calculation (arctangh transformation) \n",
       "\n",
       "              n = 31\n",
       "              r = 0.51\n",
       "      sig.level = 0.007142857\n",
       "          power = 0.7095274\n",
       "    alternative = greater\n"
      ]
     },
     "metadata": {},
     "output_type": "display_data"
    }
   ],
   "source": [
    "pwr.r.test(n=31, r=0.51, sig.level=f3_alpha, alternative=\"greater\")"
   ]
  },
  {
   "cell_type": "markdown",
   "metadata": {},
   "source": [
    "## 11. RPV correlated with SD of global fMRI signal from MEICA-denoised + RV + RV*RRF data\n",
    "- Correlation across subjects\n",
    "- N = 12\n",
    "- R = 0.52, p = 0.023\n",
    "- Figure S8"
   ]
  },
  {
   "cell_type": "code",
   "execution_count": 15,
   "metadata": {},
   "outputs": [
    {
     "data": {
      "text/plain": [
       "\n",
       "     approximate correlation power calculation (arctangh transformation) \n",
       "\n",
       "              n = 31\n",
       "              r = 0.52\n",
       "      sig.level = 0.007142857\n",
       "          power = 0.7339829\n",
       "    alternative = greater\n"
      ]
     },
     "metadata": {},
     "output_type": "display_data"
    }
   ],
   "source": [
    "pwr.r.test(n=31, r=0.52, sig.level=f3_alpha, alternative=\"greater\")"
   ]
  },
  {
   "cell_type": "markdown",
   "metadata": {},
   "source": [
    "# Family 4: Correlations of heart rate with global fMRI signal after multi-echo denoising"
   ]
  },
  {
   "cell_type": "code",
   "execution_count": 16,
   "metadata": {},
   "outputs": [],
   "source": [
    "f4_alpha = 0.05 / 3"
   ]
  },
  {
   "cell_type": "markdown",
   "metadata": {},
   "source": [
    "## 12. HRV correlated with SD of global fMRI signal from TE2 data\n",
    "- Correlation across subjects\n",
    "- N = 12\n",
    "- R = 0.07\n",
    "- Page 3, left column, second paragraph"
   ]
  },
  {
   "cell_type": "code",
   "execution_count": 17,
   "metadata": {},
   "outputs": [
    {
     "data": {
      "text/plain": [
       "\n",
       "     approximate correlation power calculation (arctangh transformation) \n",
       "\n",
       "              n = 31\n",
       "              r = 0.07\n",
       "      sig.level = 0.01666667\n",
       "          power = 0.02356005\n",
       "    alternative = two.sided\n"
      ]
     },
     "metadata": {},
     "output_type": "display_data"
    }
   ],
   "source": [
    "pwr.r.test(n=31, r=0.07, sig.level=f4_alpha, alternative=\"two.sided\")"
   ]
  },
  {
   "cell_type": "markdown",
   "metadata": {},
   "source": [
    "## 13. HRV correlated with SD of global fMRI signal from FIT R2* data\n",
    "- Correlation across subjects\n",
    "- N = 12\n",
    "- R = 0.03\n",
    "- Page 3, left column, second paragraph"
   ]
  },
  {
   "cell_type": "code",
   "execution_count": 18,
   "metadata": {},
   "outputs": [
    {
     "data": {
      "text/plain": [
       "\n",
       "     approximate correlation power calculation (arctangh transformation) \n",
       "\n",
       "              n = 31\n",
       "              r = 0.03\n",
       "      sig.level = 0.01666667\n",
       "          power = 0.01722809\n",
       "    alternative = two.sided\n"
      ]
     },
     "metadata": {},
     "output_type": "display_data"
    }
   ],
   "source": [
    "pwr.r.test(n=31, r=0.03, sig.level=f4_alpha, alternative=\"two.sided\")"
   ]
  },
  {
   "cell_type": "markdown",
   "metadata": {},
   "source": [
    "## 14. HRV correlated with SD of global fMRI signal from MEICA-denoised data\n",
    "- Correlation across subjects\n",
    "- N = 12\n",
    "- R = -0.16\n",
    "- Page 3, left column, second paragraph"
   ]
  },
  {
   "cell_type": "code",
   "execution_count": 19,
   "metadata": {},
   "outputs": [
    {
     "data": {
      "text/plain": [
       "\n",
       "     approximate correlation power calculation (arctangh transformation) \n",
       "\n",
       "              n = 31\n",
       "              r = 0.16\n",
       "      sig.level = 0.01666667\n",
       "          power = 0.06178856\n",
       "    alternative = two.sided\n"
      ]
     },
     "metadata": {},
     "output_type": "display_data"
    }
   ],
   "source": [
    "pwr.r.test(n=31, r=-0.16, sig.level=f4_alpha, alternative=\"two.sided\")"
   ]
  },
  {
   "cell_type": "markdown",
   "metadata": {},
   "source": [
    "# Family 5: Correlations of variance removed by approach"
   ]
  },
  {
   "cell_type": "code",
   "execution_count": 20,
   "metadata": {},
   "outputs": [],
   "source": [
    "f5_alpha = 0.05 / 1"
   ]
  },
  {
   "cell_type": "markdown",
   "metadata": {},
   "source": [
    "## 15. Variance removed by GODEC correlated with variance removed by mean signal regression\n",
    "- Distribution of Pearson correlation coefficients\n",
    "- N = 89\n",
    "- R = 0.87, SD = 0.16\n",
    "- Page 5, left column, first paragraph"
   ]
  },
  {
   "cell_type": "code",
   "execution_count": 21,
   "metadata": {},
   "outputs": [
    {
     "data": {
      "text/plain": [
       "\n",
       "     One-sample t test power calculation \n",
       "\n",
       "              n = 31\n",
       "              d = 2.989666\n",
       "      sig.level = 0.05\n",
       "          power = 1\n",
       "    alternative = greater\n"
      ]
     },
     "metadata": {},
     "output_type": "display_data"
    }
   ],
   "source": [
    "r_m = 0.87\n",
    "r_sd = 0.16\n",
    "z_m = fisher.r2z(r_m)\n",
    "z_sd = z_m - fisher.r2z(r_m - r_sd)\n",
    "\n",
    "pwr.t.test(d=(z_m - 0)/z_sd, n=31, sig.level=f5_alpha,\n",
    "           type=\"one.sample\", alternative=\"greater\")"
   ]
  },
  {
   "cell_type": "markdown",
   "metadata": {},
   "source": [
    "# Family 6: Correlations between motion and respiration"
   ]
  },
  {
   "cell_type": "code",
   "execution_count": 22,
   "metadata": {},
   "outputs": [],
   "source": [
    "f6_alpha = 0.05 / 1"
   ]
  },
  {
   "cell_type": "markdown",
   "metadata": {},
   "source": [
    "## 16. RPV correlated with mean FD\n",
    "- Correlation across subjects\n",
    "- N = 12\n",
    "- R = 0.73, p = 0.004\n",
    "- Page 7, right column, second paragraph"
   ]
  },
  {
   "cell_type": "code",
   "execution_count": 23,
   "metadata": {},
   "outputs": [
    {
     "data": {
      "text/plain": [
       "\n",
       "     approximate correlation power calculation (arctangh transformation) \n",
       "\n",
       "              n = 31\n",
       "              r = 0.73\n",
       "      sig.level = 0.05\n",
       "          power = 0.9995746\n",
       "    alternative = greater\n"
      ]
     },
     "metadata": {},
     "output_type": "display_data"
    }
   ],
   "source": [
    "pwr.r.test(n=31, r=0.73, sig.level=f6_alpha, alternative=\"greater\")"
   ]
  }
 ],
 "metadata": {
  "kernelspec": {
   "display_name": "R",
   "language": "R",
   "name": "ir"
  },
  "language_info": {
   "codemirror_mode": "r",
   "file_extension": ".r",
   "mimetype": "text/x-r-source",
   "name": "R",
   "pygments_lexer": "r",
   "version": "3.3.2"
  }
 },
 "nbformat": 4,
 "nbformat_minor": 2
}
