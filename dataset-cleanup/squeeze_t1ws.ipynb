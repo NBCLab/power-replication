{
 "cells": [
  {
   "cell_type": "markdown",
   "id": "spiritual-catholic",
   "metadata": {},
   "source": [
    "# Squeeze T1w images to 3D\n",
    "\n",
    "Some T1w scans from dset-dupre, at least, are 4D."
   ]
  },
  {
   "cell_type": "code",
   "execution_count": 1,
   "id": "infrared-wright",
   "metadata": {},
   "outputs": [],
   "source": [
    "import os.path as op\n",
    "from glob import glob\n",
    "\n",
    "import nibabel as nib"
   ]
  },
  {
   "cell_type": "code",
   "execution_count": 2,
   "id": "center-shelf",
   "metadata": {},
   "outputs": [
    {
     "name": "stdout",
     "output_type": "stream",
     "text": [
      "Squeezing sub-12_T1w.nii.gz\n",
      "Squeezing sub-30_T1w.nii.gz\n",
      "Squeezing sub-29_T1w.nii.gz\n",
      "Squeezing sub-07_T1w.nii.gz\n",
      "Squeezing sub-20_T1w.nii.gz\n",
      "Squeezing sub-17_T1w.nii.gz\n",
      "Squeezing sub-02_T1w.nii.gz\n",
      "Squeezing sub-19_T1w.nii.gz\n",
      "Squeezing sub-31_T1w.nii.gz\n",
      "Squeezing sub-04_T1w.nii.gz\n",
      "Squeezing sub-05_T1w.nii.gz\n",
      "Squeezing sub-28_T1w.nii.gz\n"
     ]
    }
   ],
   "source": [
    "base_dir = \"/home/data/nbc/misc-projects/Salo_PowerReplication/\"\n",
    "dset_names = [\"dset-dupre\"]\n",
    "for dset_name in dset_names:\n",
    "    dset_dir = op.join(base_dir, dset_name)\n",
    "    t1w_files = glob(op.join(dset_dir, \"**/anat/*_T1w.nii.gz\"), recursive=True)\n",
    "    for t1w_file in t1w_files:\n",
    "        img = nib.load(t1w_file)\n",
    "        if img.ndim == 4:\n",
    "            print(\"Squeezing {0}\".format(op.basename(t1w_file)))\n",
    "            img = nib.funcs.squeeze_image(img)\n",
    "            img.to_filename(t1w_file)"
   ]
  },
  {
   "cell_type": "code",
   "execution_count": null,
   "id": "million-broadcasting",
   "metadata": {},
   "outputs": [],
   "source": []
  }
 ],
 "metadata": {
  "kernelspec": {
   "display_name": "Python 3",
   "language": "python",
   "name": "python3"
  },
  "language_info": {
   "codemirror_mode": {
    "name": "ipython",
    "version": 3
   },
   "file_extension": ".py",
   "mimetype": "text/x-python",
   "name": "python",
   "nbconvert_exporter": "python",
   "pygments_lexer": "ipython3",
   "version": "3.7.10"
  }
 },
 "nbformat": 4,
 "nbformat_minor": 5
}
