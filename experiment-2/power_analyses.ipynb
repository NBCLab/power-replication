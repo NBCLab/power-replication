{
 "cells": [
  {
   "cell_type": "markdown",
   "metadata": {},
   "source": [
    "# Power analyses for Power et al. (2018) replication experiment 2\n",
    "Sample size is set at 31, so we needed to estimate power for each of the analyses given the effect sizes from the original paper and the sample size available to us."
   ]
  },
  {
   "cell_type": "code",
   "execution_count": 1,
   "metadata": {},
   "outputs": [],
   "source": [
    "library(pwr)\n",
    "fisher.r2z <- function(r) { 0.5 * (log(1+r) - log(1-r)) }"
   ]
  },
  {
   "cell_type": "markdown",
   "metadata": {},
   "source": [
    "# Family 1: Cortical signal correlated with brain signal"
   ]
  },
  {
   "cell_type": "code",
   "execution_count": 2,
   "metadata": {},
   "outputs": [],
   "source": [
    "f1_alpha = 0.05 / 2"
   ]
  },
  {
   "cell_type": "markdown",
   "metadata": {},
   "source": [
    "## 1. Mean cortical signal correlated with signal of all gray matter\n",
    "- Distribution of Pearson correlation coefficients\n",
    "- N = 89\n",
    "- R = 0.99, SD = 0.01\n",
    "- Page 2, right column, first paragraph"
   ]
  },
  {
   "cell_type": "code",
   "execution_count": 3,
   "metadata": {},
   "outputs": [
    {
     "data": {
      "text/plain": [
       "\n",
       "     One-sample t test power calculation \n",
       "\n",
       "              n = 31\n",
       "              d = 7.581522\n",
       "      sig.level = 0.025\n",
       "          power = 1\n",
       "    alternative = greater\n"
      ]
     },
     "metadata": {},
     "output_type": "display_data"
    }
   ],
   "source": [
    "r_m = 0.99\n",
    "r_sd = 0.01\n",
    "z_m = fisher.r2z(r_m)\n",
    "z_sd = z_m - fisher.r2z(r_m - r_sd)\n",
    "\n",
    "pwr.t.test(d=(z_m - 0)/z_sd, n=31, sig.level=f1_alpha,\n",
    "           type=\"one.sample\", alternative=\"greater\")"
   ]
  },
  {
   "cell_type": "markdown",
   "metadata": {},
   "source": [
    "## 2. Mean cortical signal correlated with signal of whole brain\n",
    "- Distribution of Pearson correlation coefficients\n",
    "- N = 89\n",
    "- R = 0.99, SD = 0.01\n",
    "- Page 2, right column, first paragraph\n"
   ]
  },
  {
   "cell_type": "code",
   "execution_count": 4,
   "metadata": {},
   "outputs": [
    {
     "data": {
      "text/plain": [
       "\n",
       "     One-sample t test power calculation \n",
       "\n",
       "              n = 31\n",
       "              d = 7.581522\n",
       "      sig.level = 0.025\n",
       "          power = 1\n",
       "    alternative = greater\n"
      ]
     },
     "metadata": {},
     "output_type": "display_data"
    }
   ],
   "source": [
    "r_m = 0.99\n",
    "r_sd = 0.01\n",
    "z_m = fisher.r2z(r_m)\n",
    "z_sd = z_m - fisher.r2z(r_m - r_sd)\n",
    "\n",
    "pwr.t.test(d=(z_m - 0)/z_sd, n=31, sig.level=f1_alpha,\n",
    "           type=\"one.sample\", alternative=\"greater\")"
   ]
  },
  {
   "cell_type": "markdown",
   "metadata": {},
   "source": [
    "# Family 2: Correlations of global signals from denoised fMRI data"
   ]
  },
  {
   "cell_type": "code",
   "execution_count": 5,
   "metadata": {},
   "outputs": [],
   "source": [
    "f2_alpha = 0.05 / 2"
   ]
  },
  {
   "cell_type": "markdown",
   "metadata": {},
   "source": [
    "## 3. Global signal from MEICA-denoised data correlated with global signal from optimally combined data\n",
    "- Distribution of Pearson correlation coefficients\n",
    "- N = 89\n",
    "- R = 0.95, SD = 0.08\n",
    "- Page 2, right column, first paragraph"
   ]
  },
  {
   "cell_type": "code",
   "execution_count": 6,
   "metadata": {},
   "outputs": [
    {
     "data": {
      "text/plain": [
       "\n",
       "     One-sample t test power calculation \n",
       "\n",
       "              n = 31\n",
       "              d = 3.673103\n",
       "      sig.level = 0.025\n",
       "          power = 1\n",
       "    alternative = greater\n"
      ]
     },
     "metadata": {},
     "output_type": "display_data"
    }
   ],
   "source": [
    "r_m = 0.95\n",
    "r_sd = 0.08\n",
    "z_m = fisher.r2z(r_m)\n",
    "z_sd = z_m - fisher.r2z(r_m - r_sd)\n",
    "\n",
    "pwr.t.test(d=(z_m - 0)/z_sd, n=31, sig.level=f2_alpha,\n",
    "           type=\"one.sample\", alternative=\"greater\")"
   ]
  },
  {
   "cell_type": "markdown",
   "metadata": {},
   "source": [
    "## 4. Global signal from MEICA-denoised data correlated with global signal from FIT R2* data\n",
    "- Distribution of Pearson correlation coefficients\n",
    "- N = 89\n",
    "- R = 0.96, SD = 0.06\n",
    "- Page 2, right column, second paragraph"
   ]
  },
  {
   "cell_type": "code",
   "execution_count": 7,
   "metadata": {},
   "outputs": [
    {
     "data": {
      "text/plain": [
       "\n",
       "     One-sample t test power calculation \n",
       "\n",
       "              n = 31\n",
       "              d = 4.107977\n",
       "      sig.level = 0.025\n",
       "          power = 1\n",
       "    alternative = greater\n"
      ]
     },
     "metadata": {},
     "output_type": "display_data"
    }
   ],
   "source": [
    "r_m = 0.96\n",
    "r_sd = 0.06\n",
    "z_m = fisher.r2z(r_m)\n",
    "z_sd = z_m - fisher.r2z(r_m - r_sd)\n",
    "\n",
    "pwr.t.test(d=(z_m - 0)/z_sd, n=31, sig.level=f2_alpha,\n",
    "           type=\"one.sample\", alternative=\"greater\")"
   ]
  },
  {
   "cell_type": "markdown",
   "metadata": {},
   "source": [
    "# Family 3: Correlations of variance removed by approach"
   ]
  },
  {
   "cell_type": "code",
   "execution_count": 8,
   "metadata": {},
   "outputs": [],
   "source": [
    "f5_alpha = 0.05 / 1"
   ]
  },
  {
   "cell_type": "markdown",
   "metadata": {},
   "source": [
    "## 5. Variance removed by GODEC correlated with variance removed by mean signal regression\n",
    "- Distribution of Pearson correlation coefficients\n",
    "- N = 89\n",
    "- R = 0.87, SD = 0.16\n",
    "- Page 5, left column, first paragraph"
   ]
  },
  {
   "cell_type": "code",
   "execution_count": 9,
   "metadata": {},
   "outputs": [
    {
     "data": {
      "text/plain": [
       "\n",
       "     One-sample t test power calculation \n",
       "\n",
       "              n = 31\n",
       "              d = 2.989666\n",
       "      sig.level = 0.05\n",
       "          power = 1\n",
       "    alternative = greater\n"
      ]
     },
     "metadata": {},
     "output_type": "display_data"
    }
   ],
   "source": [
    "r_m = 0.87\n",
    "r_sd = 0.16\n",
    "z_m = fisher.r2z(r_m)\n",
    "z_sd = z_m - fisher.r2z(r_m - r_sd)\n",
    "\n",
    "pwr.t.test(d=(z_m - 0)/z_sd, n=31, sig.level=f5_alpha,\n",
    "           type=\"one.sample\", alternative=\"greater\")"
   ]
  }
 ],
 "metadata": {
  "kernelspec": {
   "display_name": "R",
   "language": "R",
   "name": "ir"
  },
  "language_info": {
   "codemirror_mode": "r",
   "file_extension": ".r",
   "mimetype": "text/x-r-source",
   "name": "R",
   "pygments_lexer": "r",
   "version": "3.3.2"
  }
 },
 "nbformat": 4,
 "nbformat_minor": 2
}
