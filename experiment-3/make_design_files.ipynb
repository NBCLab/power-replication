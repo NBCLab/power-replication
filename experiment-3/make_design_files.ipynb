{
 "cells": [
  {
   "cell_type": "code",
   "execution_count": 1,
   "metadata": {
    "collapsed": true
   },
   "outputs": [],
   "source": [
    "design_file = 'design_edited.fsf'\n",
    "\n",
    "# Each file\n",
    "gp_mem = '# Group membership for input {0}\\nset fmri(groupmem.{0}) 1\\n'\n",
    "\n",
    "hi_thing = '# Higher-level EV value for EV 1 and input {0}\\nset fmri(evg{0}.1) 1\\n'\n",
    "\n",
    "f_thing = '# 4D AVW data or FEAT directory ({n})\\nset feat_files({n}) \"{f}\"\\n'\n",
    "\n",
    "# Once\n",
    "n_fls = '# Number of first-level analyses\\nset fmri(multiple) {0}\\n'\n",
    "\n",
    "out = '# Output directory\\nset fmri(outputdir) \"{0}\"\\n'\n",
    "\n",
    "n_vols = '# Total volumes\\nset fmri(npts) {0}\\n'"
   ]
  },
  {
   "cell_type": "code",
   "execution_count": 2,
   "metadata": {
    "collapsed": true
   },
   "outputs": [],
   "source": [
    "from glob import glob\n",
    "import os.path as op\n",
    "\n",
    "in_dir = '/home/data/hcp/'\n",
    "subjects = glob(op.join(in_dir, '*'))\n",
    "subjects = [op.basename(s) for s in subjects]\n",
    "subjects = sorted([s for s in subjects if s.isdigit()])\n",
    "\n",
    "# Contrast 10 is LH-AVG\n",
    "# Contrast 12 is RH-AVG\n",
    "subdir = 'MNINonLinear/Results/tfMRI_MOTOR/tfMRI_MOTOR_hp200_s4_level2vol.feat'\n",
    "feat_dirs = []\n",
    "for s in subjects:\n",
    "    feat_dir = op.join(in_dir, s, subdir)\n",
    "    if op.isdir(feat_dir):\n",
    "        feat_dirs.append(feat_dir)\n",
    "n = len(feat_dirs)"
   ]
  },
  {
   "cell_type": "code",
   "execution_count": 3,
   "metadata": {
    "collapsed": false
   },
   "outputs": [],
   "source": [
    "# Left hand\n",
    "cope_files = [op.join(fd, 'cope10.feat/stats/cope1.nii.gz') for fd in feat_dirs]\n",
    "\n",
    "with open(design_file, 'r') as fo:\n",
    "    data = fo.read()\n",
    "\n",
    "out_dir = '/home/tsalo006/Desktop/hcp-motor/lh-avg.gfeat/'\n",
    "\n",
    "data += n_fls.format(n)\n",
    "data += '\\n'\n",
    "\n",
    "data += out.format(out_dir)\n",
    "data += '\\n'\n",
    "\n",
    "data += n_vols.format(n)\n",
    "data += '\\n'\n",
    "\n",
    "for i, f in enumerate(cope_files):\n",
    "    data += gp_mem.format(i+1)\n",
    "    data += '\\n'\n",
    "    \n",
    "    data += hi_thing.format(i+1)\n",
    "    data += '\\n'\n",
    "    \n",
    "    data += f_thing.format(f=f, n=i+1)\n",
    "    data += '\\n'\n",
    "\n",
    "with open(op.join(out_dir, 'design.fsf'), 'w') as fo:\n",
    "    fo.write(data)"
   ]
  },
  {
   "cell_type": "code",
   "execution_count": 4,
   "metadata": {
    "collapsed": false
   },
   "outputs": [],
   "source": [
    "# Left hand\n",
    "cope_files = [op.join(fd, 'cope12.feat/stats/cope1.nii.gz') for fd in feat_dirs]\n",
    "\n",
    "with open(design_file, 'r') as fo:\n",
    "    data = fo.read()\n",
    "\n",
    "out_dir = '/home/tsalo006/Desktop/hcp-motor/rh-avg.gfeat/'\n",
    "\n",
    "data += n_fls.format(n)\n",
    "data += '\\n'\n",
    "\n",
    "data += out.format(out_dir)\n",
    "data += '\\n'\n",
    "\n",
    "data += n_vols.format(n)\n",
    "data += '\\n'\n",
    "\n",
    "for i, f in enumerate(cope_files):\n",
    "    data += gp_mem.format(i+1)\n",
    "    data += '\\n'\n",
    "    \n",
    "    data += hi_thing.format(i+1)\n",
    "    data += '\\n'\n",
    "    \n",
    "    data += f_thing.format(f=f, n=i+1)\n",
    "    data += '\\n'\n",
    "\n",
    "with open(op.join(out_dir, 'design.fsf'), 'w') as fo:\n",
    "    fo.write(data)"
   ]
  }
 ],
 "metadata": {
  "kernelspec": {
   "display_name": "Python 2",
   "language": "python",
   "name": "python2"
  },
  "language_info": {
   "codemirror_mode": {
    "name": "ipython",
    "version": 2
   },
   "file_extension": ".py",
   "mimetype": "text/x-python",
   "name": "python",
   "nbconvert_exporter": "python",
   "pygments_lexer": "ipython2",
   "version": "2.7.11"
  }
 },
 "nbformat": 4,
 "nbformat_minor": 0
}
